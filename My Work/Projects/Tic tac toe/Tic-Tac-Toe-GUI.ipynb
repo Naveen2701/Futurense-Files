{
 "cells": [
  {
   "cell_type": "code",
   "execution_count": 1,
   "id": "9c4c3a9b",
   "metadata": {},
   "outputs": [
    {
     "data": {
      "application/vnd.jupyter.widget-view+json": {
       "model_id": "f041ddf8f3314505b65d827f2ef33bcf",
       "version_major": 2,
       "version_minor": 0
      },
      "text/plain": [
       "GridBox(children=(Button(description=' ', layout=Layout(border='1px solid black', height='50px', width='50px')…"
      ]
     },
     "metadata": {},
     "output_type": "display_data"
    },
    {
     "data": {
      "application/vnd.jupyter.widget-view+json": {
       "model_id": "35682f656ac8490d8e565ec06c0b79f2",
       "version_major": 2,
       "version_minor": 0
      },
      "text/plain": [
       "Button(description='Reset Board', style=ButtonStyle())"
      ]
     },
     "metadata": {},
     "output_type": "display_data"
    },
    {
     "data": {
      "application/vnd.jupyter.widget-view+json": {
       "model_id": "4074ee75084745f2a37166008fba3ad7",
       "version_major": 2,
       "version_minor": 0
      },
      "text/plain": [
       "Button(description='End Game', style=ButtonStyle())"
      ]
     },
     "metadata": {},
     "output_type": "display_data"
    },
    {
     "name": "stdout",
     "output_type": "stream",
     "text": [
      "X |   | X\n",
      "-----\n",
      "O | X | O\n",
      "-----\n",
      "X |   | O\n",
      "-----\n",
      "Player X wins!\n"
     ]
    }
   ],
   "source": [
    "import ipywidgets as widgets\n",
    "from IPython.display import display, clear_output\n",
    "\n",
    "def create_board():\n",
    "    return [[\" \" for _ in range(3)] for _ in range(3)]\n",
    "\n",
    "def print_board(board):\n",
    "    for row in board:\n",
    "        print(\" | \".join(row))\n",
    "        print(\"-\" * 5)\n",
    "\n",
    "def check_winner(board, player):\n",
    "    # Check rows\n",
    "    for row in board:\n",
    "        if all(cell == player for cell in row):\n",
    "            return True\n",
    "\n",
    "    # Check columns\n",
    "    for col in range(3):\n",
    "        if all(board[row][col] == player for row in range(3)):\n",
    "            return True\n",
    "\n",
    "    # Check diagonals\n",
    "    if all(board[i][i] == player for i in range(3)) or all(board[i][2 - i] == player for i in range(3)):\n",
    "        return True\n",
    "\n",
    "    return False\n",
    "\n",
    "def is_board_full(board):\n",
    "    return all(cell != \" \" for row in board for cell in row)\n",
    "\n",
    "def on_button_click(button, row, col):\n",
    "    global board, current_player\n",
    "\n",
    "    if board[row][col] == \" \":\n",
    "        button.description = current_player\n",
    "        board[row][col] = current_player\n",
    "\n",
    "        if check_winner(board, current_player):\n",
    "            print_board(board)\n",
    "            print(f\"Player {current_player} wins!\")\n",
    "            reset_board()\n",
    "        elif is_board_full(board):\n",
    "            print_board(board)\n",
    "            print(\"It's a tie!\")\n",
    "            reset_board()\n",
    "        else:\n",
    "            current_player = players[1] if current_player == players[0] else players[0]\n",
    "\n",
    "def reset_board():\n",
    "    global board, current_player\n",
    "\n",
    "    board = create_board()\n",
    "    current_player = players[0]\n",
    "\n",
    "    for row in range(3):\n",
    "        for col in range(3):\n",
    "            buttons[row][col].description = \" \"\n",
    "\n",
    "# Initialize the board and players\n",
    "board = create_board()\n",
    "players = ['X', 'O']\n",
    "current_player = players[0]\n",
    "\n",
    "# Create buttons for the board with black borders\n",
    "buttons = [[widgets.Button(\n",
    "    description=\" \",\n",
    "    layout=widgets.Layout(height='50px', width='50px', border='1px solid black')\n",
    ") for _ in range(3)] for _ in range(3)]\n",
    "\n",
    "# Set up button click event handlers\n",
    "for row in range(3):\n",
    "    for col in range(3):\n",
    "        buttons[row][col].on_click(lambda _, r=row, c=col: on_button_click(buttons[r][c], r, c))\n",
    "\n",
    "# Flatten the list of buttons\n",
    "flat_buttons = [button for row in buttons for button in row]\n",
    "\n",
    "# Display the buttons using a flattened list\n",
    "button_grid = widgets.GridBox(flat_buttons, layout=widgets.Layout(grid_template_columns=\"repeat(3, 50px)\"))\n",
    "display(button_grid)\n",
    "\n",
    "# Display a reet button\n",
    "reset_button = widgets.Button(description=\"Reset Board\")\n",
    "reset_button.on_click(lambda _: reset_board())\n",
    "display(reset_button)\n",
    "\n",
    "# Display an end game button\n",
    "end_game_button = widgets.Button(description=\"End Game\")\n",
    "end_game_button.on_click(lambda _: exit())\n",
    "display(end_game_button)"
   ]
  },
  {
   "cell_type": "code",
   "execution_count": null,
   "id": "7bdffd5e",
   "metadata": {},
   "outputs": [],
   "source": []
  }
 ],
 "metadata": {
  "kernelspec": {
   "display_name": "Python 3 (ipykernel)",
   "language": "python",
   "name": "python3"
  },
  "language_info": {
   "codemirror_mode": {
    "name": "ipython",
    "version": 3
   },
   "file_extension": ".py",
   "mimetype": "text/x-python",
   "name": "python",
   "nbconvert_exporter": "python",
   "pygments_lexer": "ipython3",
   "version": "3.10.9"
  }
 },
 "nbformat": 4,
 "nbformat_minor": 5
}
